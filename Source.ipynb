{
 "cells": [
  {
   "cell_type": "markdown",
   "source": [
    "# HCMUS-UNIV-WebScience-VisualizeData\r\n",
    "\r\n",
    "## PROJECT 2: MỐI QUAN HỆ CỦA DỮ LIỆU\r\n"
   ],
   "metadata": {
    "collapsed": false
   }
  },
  {
   "cell_type": "markdown",
   "source": [
    "### I. Chuẩn bị môi trường:"
   ],
   "metadata": {
    "collapsed": false
   }
  },
  {
   "cell_type": "code",
   "execution_count": 1,
   "source": [
    "import sqlite3\r\n",
    "import pandas as pd\r\n",
    "import json"
   ],
   "outputs": [],
   "metadata": {
    "collapsed": false
   }
  },
  {
   "cell_type": "code",
   "execution_count": 2,
   "source": [
    "def fetch_value(sqlCommand):\r\n",
    "    conn = sqlite3.connect(\"data.db\",check_same_thread=False)\r\n",
    "    ret = pd.read_sql_query(sqlCommand, conn)\r\n",
    "    conn.close()\r\n",
    "    return ret\r\n",
    "\r\n",
    "# Query dữ liệu\r\n",
    "def query_sql(sql:str):\r\n",
    "    listData = fetch_value(sql)\r\n",
    "    return listData\r\n",
    "\r\n",
    "# Lấy bài viết theo website.\r\n",
    "def get_bai_viet(website:str):\r\n",
    "    return query_sql(f\"select * from baiviet where website='{website}'\")\r\n",
    "\r\n",
    "class Utils:\r\n",
    "    def convertHMtoFloat(HM):\r\n",
    "        h,m = HM.split(\":\")\r\n",
    "        return int(h)+(float(m)/60)"
   ],
   "outputs": [],
   "metadata": {
    "collapsed": false
   }
  },
  {
   "cell_type": "markdown",
   "source": [
    "### I. Tiền xử lý dữ liệu"
   ],
   "metadata": {
    "collapsed": false
   }
  },
  {
   "cell_type": "markdown",
   "source": [
    " #### Yêu cầu: đưa các field về dạng chuẩn chung:\r\n",
    "\r\n",
    "1. active_time: thời gian hoạt động, đưa về dạng sau:\r\n",
    "\r\n",
    "```\r\n",
    "    {\r\n",
    "        <tên ngày trong tuần>:[ <thời gian mở cửa>,<thời gian đóng cửa> ]\r\n",
    "    }\r\n",
    "\r\n",
    "    *lowercase\r\n",
    "    *thời gian đưa về float: 8h30 => 8.5\r\n",
    "```\r\n",
    "    \r\n",
    "- ví dụ:\r\n",
    "\r\n",
    "```\r\n",
    "    {\r\n",
    "        \"thứ 2\": [7,21.5],\r\n",
    "        ...,\r\n",
    "        \"chủ nhật\": [8,22.3]\r\n",
    "    }\r\n",
    "```\r\n",
    "\r\n",
    "2. other_service: các dịch vụ khác, đưa về dạng sau:\r\n",
    "\r\n",
    "```\r\n",
    "    [\r\n",
    "        <tên dịch vụ>,\r\n",
    "        <tên dịch vụ>,\r\n",
    "        ...,\r\n",
    "    ]\r\n",
    "    \r\n",
    "    *lowercase\r\n",
    "```\r\n",
    "    \r\n",
    "- ví dụ:\r\n",
    "\r\n",
    "```\r\n",
    "    [\r\n",
    "        \"có wifi\"\r\n",
    "        \"giao hàng\",\r\n",
    "        ...,\r\n",
    "    ]\r\n",
    "```"
   ],
   "metadata": {
    "collapsed": false
   }
  },
  {
   "cell_type": "markdown",
   "source": [
    "#### I.1 Foody"
   ],
   "metadata": {
    "collapsed": false
   }
  },
  {
   "cell_type": "code",
   "execution_count": 3,
   "source": [
    "def preprocessing_Foody():\r\n",
    "    # Code here\r\n",
    "    data = get_bai_viet(\"Foody\")\r\n",
    "    active_time = data[\"active_time\"]\r\n",
    "    other_service = data[\"other_service\"]\r\n",
    "    format_time = []\r\n",
    "    format_other = []\r\n",
    "    for time in active_time:\r\n",
    "        #time = time.open + ',' + time.close\r\n",
    "        time = json.loads(time)\r\n",
    "        time_format = []\r\n",
    "        time_format.append(time['open'])\r\n",
    "        time_format.append(time['close'])\r\n",
    "        x = {\r\n",
    "            \"thứ 2\":time_format,\r\n",
    "            \"thứ 3\":time_format,\r\n",
    "            \"thứ 4\":time_format,\r\n",
    "            \"thứ 5\":time_format,\r\n",
    "            \"thứ 6\":time_format,\r\n",
    "            \"thứ 7\":time_format,\r\n",
    "            \"chủ nhật\":time_format,\r\n",
    "        }\r\n",
    "        format_time.append(x)\r\n",
    "    data['active_time'] = format_time\r\n",
    "    for other in other_service:\r\n",
    "        other = other.lower()\r\n",
    "        other = json.loads(other)\r\n",
    "        format_other.append(other)\r\n",
    "    data['other_service'] = format_other\r\n",
    "    return data"
   ],
   "outputs": [],
   "metadata": {
    "collapsed": false
   }
  },
  {
   "cell_type": "markdown",
   "source": [
    "#### I.2 ShopeeFood"
   ],
   "metadata": {
    "collapsed": false
   }
  },
  {
   "cell_type": "code",
   "execution_count": 4,
   "source": [
    "def preprocessing_ShopeeFood():\r\n",
    "    def maping(name):\r\n",
    "        if name==\"monday\":\r\n",
    "            return \"thứ 2\"\r\n",
    "        if name==\"tuesday\":\r\n",
    "            return \"thứ 3\"\r\n",
    "        if name==\"wednesday\":\r\n",
    "            return \"thứ 4\"\r\n",
    "        if name==\"thursday\":\r\n",
    "            return \"thứ 5\"\r\n",
    "        if name==\"friday\":\r\n",
    "            return \"thứ 6\"\r\n",
    "        if name==\"saturday\":\r\n",
    "            return \"thứ 7\"\r\n",
    "        if name==\"sunday\":\r\n",
    "            return \"chủ nhật\"\r\n",
    "\r\n",
    "    def convert_active_time(HM):\r\n",
    "        pre_format = {}\r\n",
    "        at_js = json.loads(HM)\r\n",
    "        atl = list(at_js)\r\n",
    "        for key in atl:\r\n",
    "            open,close = at_js[key].split(\"-\")\r\n",
    "            pre_format[maping(key)] = [Utils.convertHMtoFloat(open),Utils.convertHMtoFloat(close)]\r\n",
    "        return pre_format\r\n",
    "\r\n",
    "    data = get_bai_viet(\"ShopeeFood\")\r\n",
    "    data[\"active_time\"] = data[\"active_time\"].apply(convert_active_time)\r\n",
    "\r\n",
    "    return data"
   ],
   "outputs": [],
   "metadata": {
    "collapsed": false
   }
  },
  {
   "cell_type": "markdown",
   "source": [
    "#### I.3 GoogleReview"
   ],
   "metadata": {
    "collapsed": false
   }
  },
  {
   "cell_type": "code",
   "execution_count": 35,
   "source": [
    "def preprocessing_GoogleReview():\r\n",
    "    def maping(name):\r\n",
    "        if name==\"Thứ Hai\":\r\n",
    "            return \"thứ 2\"\r\n",
    "        if name==\"Thứ Ba\":\r\n",
    "            return \"thứ 3\"\r\n",
    "        if name==\"Thứ Tư\":\r\n",
    "            return \"thứ 4\"\r\n",
    "        if name==\"Thứ Năm\":\r\n",
    "            return \"thứ 5\"\r\n",
    "        if name==\"Thứ Sáu\":\r\n",
    "            return \"thứ 6\"\r\n",
    "        if name==\"Thứ Bảy\":\r\n",
    "            return \"thứ 7\"\r\n",
    "        if name==\"Chủ Nhật\":\r\n",
    "            return \"chủ nhật\"\r\n",
    "\r\n",
    "    def convert_active_time(HM):\r\n",
    "        pre_format = {}\r\n",
    "        at_js = json.loads(HM)\r\n",
    "        atl = list(at_js)\r\n",
    "        for key in atl:\r\n",
    "            if (key == \"open\"):\r\n",
    "                pre_format = {\r\n",
    "                    \"thứ 2\":[Utils.convertHMtoFloat(\"00:00\"),Utils.convertHMtoFloat(\"23:59\")],\r\n",
    "                    \"thứ 3\":[Utils.convertHMtoFloat(\"00:00\"),Utils.convertHMtoFloat(\"23:59\")],\r\n",
    "                    \"thứ 4\":[Utils.convertHMtoFloat(\"00:00\"),Utils.convertHMtoFloat(\"23:59\")],\r\n",
    "                    \"thứ 5\":[Utils.convertHMtoFloat(\"00:00\"),Utils.convertHMtoFloat(\"23:59\")],\r\n",
    "                    \"thứ 6\":[Utils.convertHMtoFloat(\"00:00\"),Utils.convertHMtoFloat(\"23:59\")],\r\n",
    "                    \"thứ 7\":[Utils.convertHMtoFloat(\"00:00\"),Utils.convertHMtoFloat(\"23:59\")],\r\n",
    "                    \"chủ nhật\":[Utils.convertHMtoFloat(\"00:00\"),Utils.convertHMtoFloat(\"23:59\")],\r\n",
    "                    }\r\n",
    "            if (at_js[key] == \"Mở cửa cả ngày\" or at_js[key] == \"Đóng cửa\"):\r\n",
    "                open = \"00:00\"\r\n",
    "                close = \"23:59\"\r\n",
    "            else :\r\n",
    "                time_format = at_js[key].split(\"–\")\r\n",
    "                open = time_format[0]\r\n",
    "                close = time_format[len(time_format) - 1]\r\n",
    "            \r\n",
    "            pre_format[maping(key)] = [Utils.convertHMtoFloat(open),Utils.convertHMtoFloat(close)]\r\n",
    "        return pre_format\r\n",
    "\r\n",
    "    data = get_bai_viet(\"GoogleReview\")\r\n",
    "    data[\"active_time\"] = data[\"active_time\"].apply(convert_active_time)\r\n",
    "    other_service = data[\"other_service\"]\r\n",
    "    \r\n",
    "    def convert_other_service(strjson):\r\n",
    "        strjson = strjson.replace('\\\\u00a0','')\r\n",
    "        return json.loads(strjson)\r\n",
    "    data['other_service'] = data['other_service'].apply(convert_other_service)\r\n",
    "\r\n",
    "    return data"
   ],
   "outputs": [],
   "metadata": {
    "collapsed": false
   }
  },
  {
   "cell_type": "markdown",
   "source": [
    "#### I.4 Tổng hợp lại dữ liệu tiền xử lý"
   ],
   "metadata": {
    "collapsed": false
   }
  },
  {
   "cell_type": "code",
   "execution_count": 36,
   "source": [
    "DATA = pd.concat([preprocessing_Foody(),preprocessing_ShopeeFood(),preprocessing_GoogleReview()])"
   ],
   "outputs": [],
   "metadata": {
    "collapsed": false,
    "scrolled": true
   }
  },
  {
   "cell_type": "markdown",
   "source": [
    "### 2. Thống kê dữ liệu\n",
    "\n",
    "// Mô tả ..."
   ],
   "metadata": {
    "collapsed": false
   }
  },
  {
   "cell_type": "code",
   "execution_count": null,
   "source": [
    "# Code here\r\n",
    "DATA.sort_values(by=\"rate\", ascending=False).head()\r\n",
    "#Những quán ăn Quận 1 mà được lượt rate cao tới thấp\r\n",
    "DATA[DATA[\"district\"].apply(lambda state: state[0] == \"1\")].sort_values(by=\"rate\", ascending=False).head()\r\n",
    "\r\n",
    "#Những quán có rate cao là số favorite cũng cao\r\n",
    "columns_to_show = [\"rate\", \"favorite\", \"district\"]\r\n",
    "DATA.sort_values(by=\"rate\", ascending=False).groupby([\"full_name\"])[columns_to_show].describe(percentiles=[])\r\n",
    "\r\n",
    "#Những quán có giá đắt\r\n",
    "columns_show = [\"full_name\",\"price_from\",\"price_to\",]\r\n",
    "DATA.sort_values(by=\"price_from\",ascending=False).groupby([\"full_name\"])[columns_show].describe(percentiles=[])"
   ],
   "outputs": [],
   "metadata": {
    "collapsed": false
   }
  },
  {
   "cell_type": "markdown",
   "source": [
    "###  Phần 3,4,5"
   ],
   "metadata": {
    "collapsed": false
   }
  },
  {
   "cell_type": "code",
   "execution_count": null,
   "source": [],
   "outputs": [],
   "metadata": {
    "collapsed": false
   }
  },
  {
   "cell_type": "markdown",
   "source": [],
   "metadata": {
    "collapsed": false
   }
  }
 ],
 "metadata": {
  "interpreter": {
   "hash": "d98794233341d25f2a0894d4e9a90ded70997a05acb150b34675aa0571b13e29"
  },
  "kernelspec": {
   "name": "python3",
   "display_name": "Python 3.9.6 64-bit"
  },
  "language_info": {
   "codemirror_mode": {
    "name": "ipython",
    "version": 3
   },
   "file_extension": ".py",
   "mimetype": "text/x-python",
   "name": "python",
   "nbconvert_exporter": "python",
   "pygments_lexer": "ipython3",
   "version": "3.9.6"
  },
  "orig_nbformat": 4
 },
 "nbformat": 4,
 "nbformat_minor": 4
}