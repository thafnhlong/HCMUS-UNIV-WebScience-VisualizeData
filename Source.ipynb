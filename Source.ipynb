{
 "cells": [
  {
   "cell_type": "markdown",
   "source": [
    "# HCMUS-UNIV-WebScience-VisualizeData"
   ],
   "metadata": {}
  }
 ],
 "metadata": {
  "orig_nbformat": 4,
  "language_info": {
   "name": "python",
   "version": "3.9.6",
   "mimetype": "text/x-python",
   "codemirror_mode": {
    "name": "ipython",
    "version": 3
   },
   "pygments_lexer": "ipython3",
   "nbconvert_exporter": "python",
   "file_extension": ".py"
  },
  "kernelspec": {
   "name": "python3",
   "display_name": "Python 3.9.6 64-bit"
  },
  "interpreter": {
   "hash": "d98794233341d25f2a0894d4e9a90ded70997a05acb150b34675aa0571b13e29"
  }
 },
 "nbformat": 4,
 "nbformat_minor": 2
}