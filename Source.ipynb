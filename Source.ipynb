{
 "cells": [
  {
   "cell_type": "markdown",
   "metadata": {
    "collapsed": false
   },
   "source": [
    "# HCMUS-UNIV-WebScience-VisualizeData\r\n",
    "\r\n",
    "## PROJECT 2: MỐI QUAN HỆ CỦA DỮ LIỆU\r\n"
   ]
  },
  {
   "cell_type": "markdown",
   "metadata": {
    "collapsed": false
   },
   "source": [
    "### I. Chuẩn bị môi trường:"
   ]
  },
  {
   "cell_type": "code",
   "execution_count": 262,
   "metadata": {
    "collapsed": false
   },
   "outputs": [
   ],
   "source": [
    "import sqlite3\n",
    "import pandas as pd\n",
    "import json"
   ]
  },
  {
   "cell_type": "code",
   "execution_count": 263,
   "metadata": {
    "collapsed": false
   },
   "outputs": [
   ],
   "source": [
    "def fetch_value(sqlCommand):\n",
    "    conn = sqlite3.connect(\"data.db\",check_same_thread=False)\n",
    "    ret = pd.read_sql_query(sqlCommand, conn)\n",
    "    conn.close()\n",
    "    return ret\n",
    "\n",
    "# Query dữ liệu\n",
    "def query_sql(sql:str):\n",
    "    listData = fetch_value(sql)\n",
    "    return listData\n",
    "\n",
    "# Lấy bài viết theo website.\n",
    "def get_bai_viet(website:str):\n",
    "    return query_sql(f\"select * from baiviet where website='{website}'\")\n",
    "\n",
    "class Utils:\n",
    "    def convertHMtoFloat(HM):\n",
    "        h,m = HM.split(\":\")\n",
    "        return int(h)+(float(m)/60)"
   ]
  },
  {
   "cell_type": "markdown",
   "metadata": {
    "collapsed": false
   },
   "source": [
    "### I. Tiền xử lý dữ liệu"
   ]
  },
  {
   "cell_type": "markdown",
   "metadata": {
    "collapsed": false
   },
   "source": [
    " #### Yêu cầu: đưa các field về dạng chuẩn chung:\r\n",
    "\r\n",
    "1. active_time: thời gian hoạt động, đưa về dạng sau:\r\n",
    "\r\n",
    "```\r\n",
    "    {\r\n",
    "        <tên ngày trong tuần>:[ <thời gian mở cửa>,<thời gian đóng cửa> ]\r\n",
    "    }\r\n",
    "\r\n",
    "    *lowercase\r\n",
    "    *thời gian đưa về float: 8h30 => 8.5\r\n",
    "```\r\n",
    "    \r\n",
    "- ví dụ:\r\n",
    "\r\n",
    "```\r\n",
    "    {\r\n",
    "        \"thứ 2\": [7,21.5],\r\n",
    "        ...,\r\n",
    "        \"chủ nhật\": [8,22.3]\r\n",
    "    }\r\n",
    "```\r\n",
    "\r\n",
    "2. other_service: các dịch vụ khác, đưa về dạng sau:\r\n",
    "\r\n",
    "```\r\n",
    "    [\r\n",
    "        <tên dịch vụ>,\r\n",
    "        <tên dịch vụ>,\r\n",
    "        ...,\r\n",
    "    ]\r\n",
    "    \r\n",
    "    *lowercase\r\n",
    "```\r\n",
    "    \r\n",
    "- ví dụ:\r\n",
    "\r\n",
    "```\r\n",
    "    [\r\n",
    "        \"có wifi\"\r\n",
    "        \"giao hàng\",\r\n",
    "        ...,\r\n",
    "    ]\r\n",
    "```"
   ]
  },
  {
   "cell_type": "markdown",
   "metadata": {
    "collapsed": false
   },
   "source": [
    "#### I.1 Foody"
   ]
  },
  {
   "cell_type": "code",
   "execution_count": 264,
   "metadata": {
    "collapsed": false
   },
   "outputs": [
   ],
   "source": [
    "def preprocessing_Foody():\n",
    "    # Code here\n",
    "    data = get_bai_viet(\"Foody\")\n",
    "    active_time = data[\"active_time\"]\n",
    "    other_service = data[\"other_service\"]\n",
    "    format_time = []\n",
    "    format_other = []\n",
    "    for time in active_time:\n",
    "        #time = time.open + ',' + time.close\n",
    "        time = json.loads(time)\n",
    "        time_format = []\n",
    "        time_format.append(time['open'])\n",
    "        time_format.append(time['close'])\n",
    "        x = {\n",
    "            \"thứ 2\":time_format,\n",
    "            \"thứ 3\":time_format,\n",
    "            \"thứ 4\":time_format,\n",
    "            \"thứ 5\":time_format,\n",
    "            \"thứ 6\":time_format,\n",
    "            \"thứ 7\":time_format,\n",
    "            \"chủ nhật\":time_format,\n",
    "            }\n",
    "        time = json.dumps(x)\n",
    "        dict_time = json.loads(time)\n",
    "        format_time.append(dict_time)\n",
    "    data['active_time'] = format_time\n",
    "    for other in other_service:\n",
    "        other = other.lower()\n",
    "        other = json.loads(other)\n",
    "        format_other.append(other)\n",
    "    data['other_service'] = format_other\n",
    "    return data"
   ]
  },
  {
   "cell_type": "markdown",
   "metadata": {
    "collapsed": false
   },
   "source": [
    "#### I.2 ShopeeFood"
   ]
  },
  {
   "cell_type": "code",
   "execution_count": 265,
   "metadata": {
    "collapsed": false
   },
   "outputs": [
   ],
   "source": [
    "def preprocessing_ShopeeFood():\n",
    "    def maping(name):\n",
    "        if name==\"monday\":\n",
    "            return \"thứ 2\"\n",
    "        if name==\"tuesday\":\n",
    "            return \"thứ 3\"\n",
    "        if name==\"wednesday\":\n",
    "            return \"thứ 4\"\n",
    "        if name==\"thursday\":\n",
    "            return \"thứ 5\"\n",
    "        if name==\"friday\":\n",
    "            return \"thứ 6\"\n",
    "        if name==\"saturday\":\n",
    "            return \"thứ 7\"\n",
    "        if name==\"sunday\":\n",
    "            return \"chủ nhật\"\n",
    "\n",
    "    def convert_active_time(HM):\n",
    "        pre_format = {}\n",
    "        at_js = json.loads(HM)\n",
    "        atl = list(at_js)\n",
    "        for key in atl:\n",
    "            open,close = at_js[key].split(\"-\")\n",
    "            pre_format[maping(key)] = [Utils.convertHMtoFloat(open),Utils.convertHMtoFloat(close)]\n",
    "        return pre_format\n",
    "\n",
    "    data = get_bai_viet(\"ShopeeFood\")\n",
    "    data[\"active_time\"] = data[\"active_time\"].apply(convert_active_time)\n",
    "\n",
    "    return data"
   ]
  },
  {
   "cell_type": "markdown",
   "metadata": {
    "collapsed": false
   },
   "source": [
    "#### I.3 GoogleReview"
   ]
  },
  {
   "cell_type": "code",
   "execution_count": 266,
   "metadata": {
    "collapsed": false
   },
   "outputs": [
   ],
   "source": [
    "def preprocessing_GoogleReview():\n",
    "    # Code here\n",
    "    return pd.DataFrame()"
   ]
  },
  {
   "cell_type": "markdown",
   "metadata": {
    "collapsed": false
   },
   "source": [
    "#### I.4 Tổng hợp lại dữ liệu tiền xử lý"
   ]
  },
  {
   "cell_type": "code",
   "execution_count": 267,
   "metadata": {
    "collapsed": false,
    "scrolled": true
   },
   "outputs": [
   ],
   "source": [
    "DATA = pd.concat([preprocessing_Foody(),preprocessing_ShopeeFood(),preprocessing_GoogleReview()])\n",
    "#preprocessing_Foody()\n",
    "#Sumary statistic\n",
    "# DATA.describe()"
   ]
  },
  {
   "cell_type": "markdown",
   "metadata": {
    "collapsed": false
   },
   "source": [
    "### 2. Thống kê dữ liệu\n",
    "\n",
    "// Mô tả ..."
   ]
  },
  {
   "cell_type": "code",
   "execution_count": 270,
   "metadata": {
    "collapsed": false
   },
   "outputs": [
    {
     "data": {
      "text/html": [
       "<div>\n",
       "<style scoped>\n",
       "    .dataframe tbody tr th:only-of-type {\n",
       "        vertical-align: middle;\n",
       "    }\n",
       "\n",
       "    .dataframe tbody tr th {\n",
       "        vertical-align: top;\n",
       "    }\n",
       "\n",
       "    .dataframe thead tr th {\n",
       "        text-align: left;\n",
       "    }\n",
       "\n",
       "    .dataframe thead tr:last-of-type th {\n",
       "        text-align: right;\n",
       "    }\n",
       "</style>\n",
       "<table border=\"1\" class=\"dataframe\">\n",
       "  <thead>\n",
       "    <tr>\n",
       "      <th></th>\n",
       "      <th colspan=\"6\" halign=\"left\">price_from</th>\n",
       "      <th colspan=\"6\" halign=\"left\">price_to</th>\n",
       "    </tr>\n",
       "    <tr>\n",
       "      <th></th>\n",
       "      <th>count</th>\n",
       "      <th>mean</th>\n",
       "      <th>std</th>\n",
       "      <th>min</th>\n",
       "      <th>50%</th>\n",
       "      <th>max</th>\n",
       "      <th>count</th>\n",
       "      <th>mean</th>\n",
       "      <th>std</th>\n",
       "      <th>min</th>\n",
       "      <th>50%</th>\n",
       "      <th>max</th>\n",
       "    </tr>\n",
       "    <tr>\n",
       "      <th>full_name</th>\n",
       "      <th></th>\n",
       "      <th></th>\n",
       "      <th></th>\n",
       "      <th></th>\n",
       "      <th></th>\n",
       "      <th></th>\n",
       "      <th></th>\n",
       "      <th></th>\n",
       "      <th></th>\n",
       "      <th></th>\n",
       "      <th></th>\n",
       "      <th></th>\n",
       "    </tr>\n",
       "  </thead>\n",
       "  <tbody>\n",
       "    <tr>\n",
       "      <th>Lẩu Bò Q7 - La Thành</th>\n",
       "      <td>1.0</td>\n",
       "      <td>0.0</td>\n",
       "      <td>NaN</td>\n",
       "      <td>0.0</td>\n",
       "      <td>0.0</td>\n",
       "      <td>0.0</td>\n",
       "      <td>1.0</td>\n",
       "      <td>0.0</td>\n",
       "      <td>NaN</td>\n",
       "      <td>0.0</td>\n",
       "      <td>0.0</td>\n",
       "      <td>0.0</td>\n",
       "    </tr>\n",
       "    <tr>\n",
       "      <th>MIFASHOP - Mỹ Phẩm, Nước Hoa Chính Hãng</th>\n",
       "      <td>1.0</td>\n",
       "      <td>100000.0</td>\n",
       "      <td>NaN</td>\n",
       "      <td>100000.0</td>\n",
       "      <td>100000.0</td>\n",
       "      <td>100000.0</td>\n",
       "      <td>1.0</td>\n",
       "      <td>5000000.0</td>\n",
       "      <td>NaN</td>\n",
       "      <td>5000000.0</td>\n",
       "      <td>5000000.0</td>\n",
       "      <td>5000000.0</td>\n",
       "    </tr>\n",
       "    <tr>\n",
       "      <th>Sly1994</th>\n",
       "      <td>1.0</td>\n",
       "      <td>100000.0</td>\n",
       "      <td>NaN</td>\n",
       "      <td>100000.0</td>\n",
       "      <td>100000.0</td>\n",
       "      <td>100000.0</td>\n",
       "      <td>1.0</td>\n",
       "      <td>200000.0</td>\n",
       "      <td>NaN</td>\n",
       "      <td>200000.0</td>\n",
       "      <td>200000.0</td>\n",
       "      <td>200000.0</td>\n",
       "    </tr>\n",
       "    <tr>\n",
       "      <th>Sơn Mập Quán - Heo Mẹt - Đường Số 11</th>\n",
       "      <td>1.0</td>\n",
       "      <td>50000.0</td>\n",
       "      <td>NaN</td>\n",
       "      <td>50000.0</td>\n",
       "      <td>50000.0</td>\n",
       "      <td>50000.0</td>\n",
       "      <td>1.0</td>\n",
       "      <td>30000.0</td>\n",
       "      <td>NaN</td>\n",
       "      <td>30000.0</td>\n",
       "      <td>30000.0</td>\n",
       "      <td>30000.0</td>\n",
       "    </tr>\n",
       "    <tr>\n",
       "      <th>1 Food Drink</th>\n",
       "      <td>1.0</td>\n",
       "      <td>50000.0</td>\n",
       "      <td>NaN</td>\n",
       "      <td>50000.0</td>\n",
       "      <td>50000.0</td>\n",
       "      <td>50000.0</td>\n",
       "      <td>1.0</td>\n",
       "      <td>150000.0</td>\n",
       "      <td>NaN</td>\n",
       "      <td>150000.0</td>\n",
       "      <td>150000.0</td>\n",
       "      <td>150000.0</td>\n",
       "    </tr>\n",
       "    <tr>\n",
       "      <th>...</th>\n",
       "      <td>...</td>\n",
       "      <td>...</td>\n",
       "      <td>...</td>\n",
       "      <td>...</td>\n",
       "      <td>...</td>\n",
       "      <td>...</td>\n",
       "      <td>...</td>\n",
       "      <td>...</td>\n",
       "      <td>...</td>\n",
       "      <td>...</td>\n",
       "      <td>...</td>\n",
       "      <td>...</td>\n",
       "    </tr>\n",
       "    <tr>\n",
       "      <th>Ốc Đêm Nha Trang</th>\n",
       "      <td>1.0</td>\n",
       "      <td>40000.0</td>\n",
       "      <td>NaN</td>\n",
       "      <td>40000.0</td>\n",
       "      <td>40000.0</td>\n",
       "      <td>40000.0</td>\n",
       "      <td>1.0</td>\n",
       "      <td>100000.0</td>\n",
       "      <td>NaN</td>\n",
       "      <td>100000.0</td>\n",
       "      <td>100000.0</td>\n",
       "      <td>100000.0</td>\n",
       "    </tr>\n",
       "    <tr>\n",
       "      <th>Ốc Đại Dương - Nguyễn Văn Luông</th>\n",
       "      <td>1.0</td>\n",
       "      <td>15000.0</td>\n",
       "      <td>NaN</td>\n",
       "      <td>15000.0</td>\n",
       "      <td>15000.0</td>\n",
       "      <td>15000.0</td>\n",
       "      <td>1.0</td>\n",
       "      <td>200000.0</td>\n",
       "      <td>NaN</td>\n",
       "      <td>200000.0</td>\n",
       "      <td>200000.0</td>\n",
       "      <td>200000.0</td>\n",
       "    </tr>\n",
       "    <tr>\n",
       "      <th>Ốc Đẹp</th>\n",
       "      <td>1.0</td>\n",
       "      <td>20000.0</td>\n",
       "      <td>NaN</td>\n",
       "      <td>20000.0</td>\n",
       "      <td>20000.0</td>\n",
       "      <td>20000.0</td>\n",
       "      <td>1.0</td>\n",
       "      <td>30000.0</td>\n",
       "      <td>NaN</td>\n",
       "      <td>30000.0</td>\n",
       "      <td>30000.0</td>\n",
       "      <td>30000.0</td>\n",
       "    </tr>\n",
       "    <tr>\n",
       "      <th>Ớt Xanh 1 - Cháo Ếch Singapore</th>\n",
       "      <td>1.0</td>\n",
       "      <td>20000.0</td>\n",
       "      <td>NaN</td>\n",
       "      <td>20000.0</td>\n",
       "      <td>20000.0</td>\n",
       "      <td>20000.0</td>\n",
       "      <td>1.0</td>\n",
       "      <td>150000.0</td>\n",
       "      <td>NaN</td>\n",
       "      <td>150000.0</td>\n",
       "      <td>150000.0</td>\n",
       "      <td>150000.0</td>\n",
       "    </tr>\n",
       "    <tr>\n",
       "      <th>Ụt Ụt Quán - Barbecue &amp; Beer - Võ Văn Kiệt</th>\n",
       "      <td>1.0</td>\n",
       "      <td>100000.0</td>\n",
       "      <td>NaN</td>\n",
       "      <td>100000.0</td>\n",
       "      <td>100000.0</td>\n",
       "      <td>100000.0</td>\n",
       "      <td>1.0</td>\n",
       "      <td>300000.0</td>\n",
       "      <td>NaN</td>\n",
       "      <td>300000.0</td>\n",
       "      <td>300000.0</td>\n",
       "      <td>300000.0</td>\n",
       "    </tr>\n",
       "  </tbody>\n",
       "</table>\n",
       "<p>3922 rows × 12 columns</p>\n",
       "</div>"
      ],
      "text/plain": [
       "                                           price_from                          \\\n",
       "                                                count      mean std       min   \n",
       "full_name                                                                       \n",
       " Lẩu Bò Q7 - La Thành                             1.0       0.0 NaN       0.0   \n",
       " MIFASHOP - Mỹ Phẩm, Nước Hoa Chính Hãng          1.0  100000.0 NaN  100000.0   \n",
       " Sly1994                                          1.0  100000.0 NaN  100000.0   \n",
       " Sơn Mập Quán - Heo Mẹt - Đường Số 11             1.0   50000.0 NaN   50000.0   \n",
       "1 Food Drink                                      1.0   50000.0 NaN   50000.0   \n",
       "...                                               ...       ...  ..       ...   \n",
       "Ốc Đêm Nha Trang                                  1.0   40000.0 NaN   40000.0   \n",
       "Ốc Đại Dương - Nguyễn Văn Luông                   1.0   15000.0 NaN   15000.0   \n",
       "Ốc Đẹp                                            1.0   20000.0 NaN   20000.0   \n",
       "Ớt Xanh 1 - Cháo Ếch Singapore                    1.0   20000.0 NaN   20000.0   \n",
       "Ụt Ụt Quán - Barbecue & Beer - Võ Văn Kiệt        1.0  100000.0 NaN  100000.0   \n",
       "\n",
       "                                                               price_to  \\\n",
       "                                                 50%       max    count   \n",
       "full_name                                                                 \n",
       " Lẩu Bò Q7 - La Thành                            0.0       0.0      1.0   \n",
       " MIFASHOP - Mỹ Phẩm, Nước Hoa Chính Hãng    100000.0  100000.0      1.0   \n",
       " Sly1994                                    100000.0  100000.0      1.0   \n",
       " Sơn Mập Quán - Heo Mẹt - Đường Số 11        50000.0   50000.0      1.0   \n",
       "1 Food Drink                                 50000.0   50000.0      1.0   \n",
       "...                                              ...       ...      ...   \n",
       "Ốc Đêm Nha Trang                             40000.0   40000.0      1.0   \n",
       "Ốc Đại Dương - Nguyễn Văn Luông              15000.0   15000.0      1.0   \n",
       "Ốc Đẹp                                       20000.0   20000.0      1.0   \n",
       "Ớt Xanh 1 - Cháo Ếch Singapore               20000.0   20000.0      1.0   \n",
       "Ụt Ụt Quán - Barbecue & Beer - Võ Văn Kiệt  100000.0  100000.0      1.0   \n",
       "\n",
       "                                                                      \\\n",
       "                                                 mean std        min   \n",
       "full_name                                                              \n",
       " Lẩu Bò Q7 - La Thành                             0.0 NaN        0.0   \n",
       " MIFASHOP - Mỹ Phẩm, Nước Hoa Chính Hãng    5000000.0 NaN  5000000.0   \n",
       " Sly1994                                     200000.0 NaN   200000.0   \n",
       " Sơn Mập Quán - Heo Mẹt - Đường Số 11         30000.0 NaN    30000.0   \n",
       "1 Food Drink                                 150000.0 NaN   150000.0   \n",
       "...                                               ...  ..        ...   \n",
       "Ốc Đêm Nha Trang                             100000.0 NaN   100000.0   \n",
       "Ốc Đại Dương - Nguyễn Văn Luông              200000.0 NaN   200000.0   \n",
       "Ốc Đẹp                                        30000.0 NaN    30000.0   \n",
       "Ớt Xanh 1 - Cháo Ếch Singapore               150000.0 NaN   150000.0   \n",
       "Ụt Ụt Quán - Barbecue & Beer - Võ Văn Kiệt   300000.0 NaN   300000.0   \n",
       "\n",
       "                                                                  \n",
       "                                                  50%        max  \n",
       "full_name                                                         \n",
       " Lẩu Bò Q7 - La Thành                             0.0        0.0  \n",
       " MIFASHOP - Mỹ Phẩm, Nước Hoa Chính Hãng    5000000.0  5000000.0  \n",
       " Sly1994                                     200000.0   200000.0  \n",
       " Sơn Mập Quán - Heo Mẹt - Đường Số 11         30000.0    30000.0  \n",
       "1 Food Drink                                 150000.0   150000.0  \n",
       "...                                               ...        ...  \n",
       "Ốc Đêm Nha Trang                             100000.0   100000.0  \n",
       "Ốc Đại Dương - Nguyễn Văn Luông              200000.0   200000.0  \n",
       "Ốc Đẹp                                        30000.0    30000.0  \n",
       "Ớt Xanh 1 - Cháo Ếch Singapore               150000.0   150000.0  \n",
       "Ụt Ụt Quán - Barbecue & Beer - Võ Văn Kiệt   300000.0   300000.0  \n",
       "\n",
       "[3922 rows x 12 columns]"
      ]
     },
     "execution_count": 270,
     "metadata": {
     },
     "output_type": "execute_result"
    }
   ],
   "source": [
    "# Code here\n",
    "DATA.sort_values(by=\"rate\", ascending=False).head()\n",
    "#Những quán ăn Quận 1 mà được lượt rate cao tới thấp\n",
    "DATA[DATA[\"district\"].apply(lambda state: state[0] == \"1\")].sort_values(by=\"rate\", ascending=False).head()\n",
    "\n",
    "#Những quán có rate cao là số favorite cũng cao\n",
    "columns_to_show = [\"rate\", \"favorite\", \"district\"]\n",
    "DATA.sort_values(by=\"rate\", ascending=False).groupby([\"full_name\"])[columns_to_show].describe(percentiles=[])\n",
    "\n",
    "#Những quán có giá đắt\n",
    "columns_show = [\"full_name\",\"price_from\",\"price_to\",]\n",
    "DATA.sort_values(by=\"price_from\",ascending=False).groupby([\"full_name\"])[columns_show].describe(percentiles=[])"
   ]
  },
  {
   "cell_type": "markdown",
   "metadata": {
    "collapsed": false
   },
   "source": [
    "###  Phần 3,4,5"
   ]
  },
  {
   "cell_type": "code",
   "execution_count": 0,
   "metadata": {
    "collapsed": false
   },
   "outputs": [
   ],
   "source": [
   ]
  },
  {
   "cell_type": "markdown",
   "metadata": {
    "collapsed": false
   },
   "source": [
   ]
  }
 ],
 "metadata": {
  "interpreter": {
   "hash": "d98794233341d25f2a0894d4e9a90ded70997a05acb150b34675aa0571b13e29"
  },
  "kernelspec": {
   "display_name": "Python 3 (system-wide)",
   "language": "python",
   "metadata": {
    "cocalc": {
     "description": "Python 3 programming language",
     "priority": 100,
     "url": "https://www.python.org/"
    }
   },
   "name": "python3",
   "resource_dir": "/ext/jupyter/kernels/python3"
  },
  "language_info": {
   "codemirror_mode": {
    "name": "ipython",
    "version": 3
   },
   "file_extension": ".py",
   "mimetype": "text/x-python",
   "name": "python",
   "nbconvert_exporter": "python",
   "pygments_lexer": "ipython3",
   "version": "3.8.10"
  },
  "orig_nbformat": 4
 },
 "nbformat": 4,
 "nbformat_minor": 4
}