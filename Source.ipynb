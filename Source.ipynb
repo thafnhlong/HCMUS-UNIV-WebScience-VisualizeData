{
 "cells": [
  {
   "cell_type": "markdown",
   "source": [
    "# HCMUS-UNIV-WebScience-VisualizeData\r\n",
    "\r\n",
    "## PROJECT 2: MỐI QUAN HỆ CỦA DỮ LIỆU\r\n"
   ],
   "metadata": {
    "collapsed": false
   }
  },
  {
   "cell_type": "markdown",
   "source": [
    "### I. Chuẩn bị môi trường:"
   ],
   "metadata": {
    "collapsed": false
   }
  },
  {
   "cell_type": "code",
   "execution_count": 1,
   "source": [
    "import sqlite3\r\n",
    "import pandas as pd\r\n",
    "import json"
   ],
   "outputs": [],
   "metadata": {
    "collapsed": false
   }
  },
  {
   "cell_type": "code",
   "execution_count": 2,
   "source": [
    "def fetch_value(sqlCommand):\r\n",
    "    conn = sqlite3.connect(\"data.db\",check_same_thread=False)\r\n",
    "    ret = pd.read_sql_query(sqlCommand, conn)\r\n",
    "    conn.close()\r\n",
    "    return ret\r\n",
    "\r\n",
    "# Query dữ liệu\r\n",
    "def query_sql(sql:str):\r\n",
    "    listData = fetch_value(sql)\r\n",
    "    return listData\r\n",
    "\r\n",
    "# Lấy bài viết theo website.\r\n",
    "def get_bai_viet(website:str):\r\n",
    "    return query_sql(f\"select * from baiviet where website='{website}'\")\r\n",
    "\r\n",
    "class Utils:\r\n",
    "    def convertHMtoFloat(HM):\r\n",
    "        h,m = HM.split(\":\")\r\n",
    "        return int(h)+(float(m)/60)"
   ],
   "outputs": [],
   "metadata": {
    "collapsed": false
   }
  },
  {
   "cell_type": "markdown",
   "source": [
    "### I. Tiền xử lý dữ liệu"
   ],
   "metadata": {
    "collapsed": false
   }
  },
  {
   "cell_type": "markdown",
   "source": [
    " #### Yêu cầu: đưa các field về dạng chuẩn chung:\r\n",
    "\r\n",
    "1. active_time: thời gian hoạt động, đưa về dạng sau:\r\n",
    "\r\n",
    "```\r\n",
    "    {\r\n",
    "        <tên ngày trong tuần>:[ <thời gian mở cửa>,<thời gian đóng cửa> ]\r\n",
    "    }\r\n",
    "\r\n",
    "    *lowercase\r\n",
    "    *thời gian đưa về float: 8h30 => 8.5\r\n",
    "```\r\n",
    "    \r\n",
    "- ví dụ:\r\n",
    "\r\n",
    "```\r\n",
    "    {\r\n",
    "        \"thứ 2\": [7,21.5],\r\n",
    "        ...,\r\n",
    "        \"chủ nhật\": [8,22.3]\r\n",
    "    }\r\n",
    "```\r\n",
    "\r\n",
    "2. other_service: các dịch vụ khác, đưa về dạng sau:\r\n",
    "\r\n",
    "```\r\n",
    "    [\r\n",
    "        <tên dịch vụ>,\r\n",
    "        <tên dịch vụ>,\r\n",
    "        ...,\r\n",
    "    ]\r\n",
    "    \r\n",
    "    *lowercase\r\n",
    "```\r\n",
    "    \r\n",
    "- ví dụ:\r\n",
    "\r\n",
    "```\r\n",
    "    [\r\n",
    "        \"có wifi\"\r\n",
    "        \"giao hàng\",\r\n",
    "        ...,\r\n",
    "    ]\r\n",
    "```"
   ],
   "metadata": {
    "collapsed": false
   }
  },
  {
   "cell_type": "markdown",
   "source": [
    "#### I.1 Foody"
   ],
   "metadata": {
    "collapsed": false
   }
  },
  {
   "cell_type": "code",
   "execution_count": 14,
   "source": [
    "def preprocessing_Foody():\r\n",
    "    # Code here\r\n",
    "    data = get_bai_viet(\"Foody\")\r\n",
    "    active_time = data[\"active_time\"]\r\n",
    "    other_service = data[\"other_service\"]\r\n",
    "    format_time = []\r\n",
    "    format_other = []\r\n",
    "    for time in active_time:\r\n",
    "        #time = time.open + ',' + time.close\r\n",
    "        time = json.loads(time)\r\n",
    "        time_format = []\r\n",
    "        time_format.append(time['open'])\r\n",
    "        time_format.append(time['close'])\r\n",
    "        x = {\r\n",
    "            \"thứ 2\":time_format,\r\n",
    "            \"thứ 3\":time_format,\r\n",
    "            \"thứ 4\":time_format,\r\n",
    "            \"thứ 5\":time_format,\r\n",
    "            \"thứ 6\":time_format,\r\n",
    "            \"thứ 7\":time_format,\r\n",
    "            \"chủ nhật\":time_format,\r\n",
    "        }\r\n",
    "        format_time.append(x)\r\n",
    "    data['active_time'] = format_time\r\n",
    "    for other in other_service:\r\n",
    "        other = other.lower()\r\n",
    "        other = json.loads(other)\r\n",
    "        format_other.append(other)\r\n",
    "    data['other_service'] = format_other\r\n",
    "    return data"
   ],
   "outputs": [],
   "metadata": {
    "collapsed": false
   }
  },
  {
   "cell_type": "markdown",
   "source": [
    "#### I.2 ShopeeFood"
   ],
   "metadata": {
    "collapsed": false
   }
  },
  {
   "cell_type": "code",
   "execution_count": 8,
   "source": [
    "def preprocessing_ShopeeFood():\r\n",
    "    def maping(name):\r\n",
    "        if name==\"monday\":\r\n",
    "            return \"thứ 2\"\r\n",
    "        if name==\"tuesday\":\r\n",
    "            return \"thứ 3\"\r\n",
    "        if name==\"wednesday\":\r\n",
    "            return \"thứ 4\"\r\n",
    "        if name==\"thursday\":\r\n",
    "            return \"thứ 5\"\r\n",
    "        if name==\"friday\":\r\n",
    "            return \"thứ 6\"\r\n",
    "        if name==\"saturday\":\r\n",
    "            return \"thứ 7\"\r\n",
    "        if name==\"sunday\":\r\n",
    "            return \"chủ nhật\"\r\n",
    "\r\n",
    "    def convert_active_time(HM):\r\n",
    "        pre_format = {}\r\n",
    "        at_js = json.loads(HM)\r\n",
    "        atl = list(at_js)\r\n",
    "        for key in atl:\r\n",
    "            open,close = at_js[key].split(\"-\")\r\n",
    "            pre_format[maping(key)] = [Utils.convertHMtoFloat(open),Utils.convertHMtoFloat(close)]\r\n",
    "        return pre_format\r\n",
    "\r\n",
    "    data = get_bai_viet(\"ShopeeFood\")\r\n",
    "    data[\"active_time\"] = data[\"active_time\"].apply(convert_active_time)\r\n",
    "\r\n",
    "    return data"
   ],
   "outputs": [],
   "metadata": {
    "collapsed": false
   }
  },
  {
   "cell_type": "markdown",
   "source": [
    "#### I.3 GoogleReview"
   ],
   "metadata": {
    "collapsed": false
   }
  },
  {
   "cell_type": "code",
   "execution_count": 9,
   "source": [
    "def preprocessing_GoogleReview():\r\n",
    "    # Code here\r\n",
    "    return pd.DataFrame()"
   ],
   "outputs": [],
   "metadata": {
    "collapsed": false
   }
  },
  {
   "cell_type": "markdown",
   "source": [
    "#### I.4 Tổng hợp lại dữ liệu tiền xử lý"
   ],
   "metadata": {
    "collapsed": false
   }
  },
  {
   "cell_type": "code",
   "execution_count": 15,
   "source": [
    "DATA = pd.concat([preprocessing_Foody(),preprocessing_ShopeeFood(),preprocessing_GoogleReview()])\r\n",
    "#preprocessing_Foody()\r\n",
    "#Sumary statistic\r\n",
    "# DATA.describe()"
   ],
   "outputs": [],
   "metadata": {
    "collapsed": false,
    "scrolled": true
   }
  },
  {
   "cell_type": "markdown",
   "source": [
    "### 2. Thống kê dữ liệu\n",
    "\n",
    "// Mô tả ..."
   ],
   "metadata": {
    "collapsed": false
   }
  },
  {
   "cell_type": "code",
   "execution_count": 17,
   "source": [
    "# Code here\r\n",
    "DATA.sort_values(by=\"rate\", ascending=False).head()\r\n",
    "#Những quán ăn Quận 1 mà được lượt rate cao tới thấp\r\n",
    "DATA[DATA[\"district\"].apply(lambda state: state[0] == \"1\")].sort_values(by=\"rate\", ascending=False).head()\r\n",
    "\r\n",
    "#Những quán có rate cao là số favorite cũng cao\r\n",
    "columns_to_show = [\"rate\", \"favorite\", \"district\"]\r\n",
    "DATA.sort_values(by=\"rate\", ascending=False).groupby([\"full_name\"])[columns_to_show].describe(percentiles=[])\r\n",
    "\r\n",
    "#Những quán có giá đắt\r\n",
    "columns_show = [\"full_name\",\"price_from\",\"price_to\",]\r\n",
    "DATA.sort_values(by=\"price_from\",ascending=False).groupby([\"full_name\"])[columns_show].describe(percentiles=[])"
   ],
   "outputs": [
    {
     "output_type": "execute_result",
     "data": {
      "text/html": [
       "<div>\n",
       "<style scoped>\n",
       "    .dataframe tbody tr th:only-of-type {\n",
       "        vertical-align: middle;\n",
       "    }\n",
       "\n",
       "    .dataframe tbody tr th {\n",
       "        vertical-align: top;\n",
       "    }\n",
       "\n",
       "    .dataframe thead tr th {\n",
       "        text-align: left;\n",
       "    }\n",
       "\n",
       "    .dataframe thead tr:last-of-type th {\n",
       "        text-align: right;\n",
       "    }\n",
       "</style>\n",
       "<table border=\"1\" class=\"dataframe\">\n",
       "  <thead>\n",
       "    <tr>\n",
       "      <th></th>\n",
       "      <th colspan=\"6\" halign=\"left\">price_from</th>\n",
       "      <th colspan=\"6\" halign=\"left\">price_to</th>\n",
       "    </tr>\n",
       "    <tr>\n",
       "      <th></th>\n",
       "      <th>count</th>\n",
       "      <th>mean</th>\n",
       "      <th>std</th>\n",
       "      <th>min</th>\n",
       "      <th>50%</th>\n",
       "      <th>max</th>\n",
       "      <th>count</th>\n",
       "      <th>mean</th>\n",
       "      <th>std</th>\n",
       "      <th>min</th>\n",
       "      <th>50%</th>\n",
       "      <th>max</th>\n",
       "    </tr>\n",
       "    <tr>\n",
       "      <th>full_name</th>\n",
       "      <th></th>\n",
       "      <th></th>\n",
       "      <th></th>\n",
       "      <th></th>\n",
       "      <th></th>\n",
       "      <th></th>\n",
       "      <th></th>\n",
       "      <th></th>\n",
       "      <th></th>\n",
       "      <th></th>\n",
       "      <th></th>\n",
       "      <th></th>\n",
       "    </tr>\n",
       "  </thead>\n",
       "  <tbody>\n",
       "    <tr>\n",
       "      <th>Lẩu Bò Q7 - La Thành</th>\n",
       "      <td>1.0</td>\n",
       "      <td>0.0</td>\n",
       "      <td>NaN</td>\n",
       "      <td>0.0</td>\n",
       "      <td>0.0</td>\n",
       "      <td>0.0</td>\n",
       "      <td>1.0</td>\n",
       "      <td>0.0</td>\n",
       "      <td>NaN</td>\n",
       "      <td>0.0</td>\n",
       "      <td>0.0</td>\n",
       "      <td>0.0</td>\n",
       "    </tr>\n",
       "    <tr>\n",
       "      <th>MIFASHOP - Mỹ Phẩm, Nước Hoa Chính Hãng</th>\n",
       "      <td>1.0</td>\n",
       "      <td>100000.0</td>\n",
       "      <td>NaN</td>\n",
       "      <td>100000.0</td>\n",
       "      <td>100000.0</td>\n",
       "      <td>100000.0</td>\n",
       "      <td>1.0</td>\n",
       "      <td>5000000.0</td>\n",
       "      <td>NaN</td>\n",
       "      <td>5000000.0</td>\n",
       "      <td>5000000.0</td>\n",
       "      <td>5000000.0</td>\n",
       "    </tr>\n",
       "    <tr>\n",
       "      <th>Sly1994</th>\n",
       "      <td>1.0</td>\n",
       "      <td>100000.0</td>\n",
       "      <td>NaN</td>\n",
       "      <td>100000.0</td>\n",
       "      <td>100000.0</td>\n",
       "      <td>100000.0</td>\n",
       "      <td>1.0</td>\n",
       "      <td>200000.0</td>\n",
       "      <td>NaN</td>\n",
       "      <td>200000.0</td>\n",
       "      <td>200000.0</td>\n",
       "      <td>200000.0</td>\n",
       "    </tr>\n",
       "    <tr>\n",
       "      <th>Sơn Mập Quán - Heo Mẹt - Đường Số 11</th>\n",
       "      <td>1.0</td>\n",
       "      <td>50000.0</td>\n",
       "      <td>NaN</td>\n",
       "      <td>50000.0</td>\n",
       "      <td>50000.0</td>\n",
       "      <td>50000.0</td>\n",
       "      <td>1.0</td>\n",
       "      <td>30000.0</td>\n",
       "      <td>NaN</td>\n",
       "      <td>30000.0</td>\n",
       "      <td>30000.0</td>\n",
       "      <td>30000.0</td>\n",
       "    </tr>\n",
       "    <tr>\n",
       "      <th>1 Food Drink</th>\n",
       "      <td>1.0</td>\n",
       "      <td>50000.0</td>\n",
       "      <td>NaN</td>\n",
       "      <td>50000.0</td>\n",
       "      <td>50000.0</td>\n",
       "      <td>50000.0</td>\n",
       "      <td>1.0</td>\n",
       "      <td>150000.0</td>\n",
       "      <td>NaN</td>\n",
       "      <td>150000.0</td>\n",
       "      <td>150000.0</td>\n",
       "      <td>150000.0</td>\n",
       "    </tr>\n",
       "    <tr>\n",
       "      <th>...</th>\n",
       "      <td>...</td>\n",
       "      <td>...</td>\n",
       "      <td>...</td>\n",
       "      <td>...</td>\n",
       "      <td>...</td>\n",
       "      <td>...</td>\n",
       "      <td>...</td>\n",
       "      <td>...</td>\n",
       "      <td>...</td>\n",
       "      <td>...</td>\n",
       "      <td>...</td>\n",
       "      <td>...</td>\n",
       "    </tr>\n",
       "    <tr>\n",
       "      <th>Ốc Đêm Nha Trang</th>\n",
       "      <td>1.0</td>\n",
       "      <td>40000.0</td>\n",
       "      <td>NaN</td>\n",
       "      <td>40000.0</td>\n",
       "      <td>40000.0</td>\n",
       "      <td>40000.0</td>\n",
       "      <td>1.0</td>\n",
       "      <td>100000.0</td>\n",
       "      <td>NaN</td>\n",
       "      <td>100000.0</td>\n",
       "      <td>100000.0</td>\n",
       "      <td>100000.0</td>\n",
       "    </tr>\n",
       "    <tr>\n",
       "      <th>Ốc Đại Dương - Nguyễn Văn Luông</th>\n",
       "      <td>1.0</td>\n",
       "      <td>15000.0</td>\n",
       "      <td>NaN</td>\n",
       "      <td>15000.0</td>\n",
       "      <td>15000.0</td>\n",
       "      <td>15000.0</td>\n",
       "      <td>1.0</td>\n",
       "      <td>200000.0</td>\n",
       "      <td>NaN</td>\n",
       "      <td>200000.0</td>\n",
       "      <td>200000.0</td>\n",
       "      <td>200000.0</td>\n",
       "    </tr>\n",
       "    <tr>\n",
       "      <th>Ốc Đẹp</th>\n",
       "      <td>1.0</td>\n",
       "      <td>20000.0</td>\n",
       "      <td>NaN</td>\n",
       "      <td>20000.0</td>\n",
       "      <td>20000.0</td>\n",
       "      <td>20000.0</td>\n",
       "      <td>1.0</td>\n",
       "      <td>30000.0</td>\n",
       "      <td>NaN</td>\n",
       "      <td>30000.0</td>\n",
       "      <td>30000.0</td>\n",
       "      <td>30000.0</td>\n",
       "    </tr>\n",
       "    <tr>\n",
       "      <th>Ớt Xanh 1 - Cháo Ếch Singapore</th>\n",
       "      <td>1.0</td>\n",
       "      <td>20000.0</td>\n",
       "      <td>NaN</td>\n",
       "      <td>20000.0</td>\n",
       "      <td>20000.0</td>\n",
       "      <td>20000.0</td>\n",
       "      <td>1.0</td>\n",
       "      <td>150000.0</td>\n",
       "      <td>NaN</td>\n",
       "      <td>150000.0</td>\n",
       "      <td>150000.0</td>\n",
       "      <td>150000.0</td>\n",
       "    </tr>\n",
       "    <tr>\n",
       "      <th>Ụt Ụt Quán - Barbecue &amp; Beer - Võ Văn Kiệt</th>\n",
       "      <td>1.0</td>\n",
       "      <td>100000.0</td>\n",
       "      <td>NaN</td>\n",
       "      <td>100000.0</td>\n",
       "      <td>100000.0</td>\n",
       "      <td>100000.0</td>\n",
       "      <td>1.0</td>\n",
       "      <td>300000.0</td>\n",
       "      <td>NaN</td>\n",
       "      <td>300000.0</td>\n",
       "      <td>300000.0</td>\n",
       "      <td>300000.0</td>\n",
       "    </tr>\n",
       "  </tbody>\n",
       "</table>\n",
       "<p>3922 rows × 12 columns</p>\n",
       "</div>"
      ],
      "text/plain": [
       "                                           price_from                          \\\n",
       "                                                count      mean std       min   \n",
       "full_name                                                                       \n",
       " Lẩu Bò Q7 - La Thành                             1.0       0.0 NaN       0.0   \n",
       " MIFASHOP - Mỹ Phẩm, Nước Hoa Chính Hãng          1.0  100000.0 NaN  100000.0   \n",
       " Sly1994                                          1.0  100000.0 NaN  100000.0   \n",
       " Sơn Mập Quán - Heo Mẹt - Đường Số 11             1.0   50000.0 NaN   50000.0   \n",
       "1 Food Drink                                      1.0   50000.0 NaN   50000.0   \n",
       "...                                               ...       ...  ..       ...   \n",
       "Ốc Đêm Nha Trang                                  1.0   40000.0 NaN   40000.0   \n",
       "Ốc Đại Dương - Nguyễn Văn Luông                   1.0   15000.0 NaN   15000.0   \n",
       "Ốc Đẹp                                            1.0   20000.0 NaN   20000.0   \n",
       "Ớt Xanh 1 - Cháo Ếch Singapore                    1.0   20000.0 NaN   20000.0   \n",
       "Ụt Ụt Quán - Barbecue & Beer - Võ Văn Kiệt        1.0  100000.0 NaN  100000.0   \n",
       "\n",
       "                                                               price_to  \\\n",
       "                                                 50%       max    count   \n",
       "full_name                                                                 \n",
       " Lẩu Bò Q7 - La Thành                            0.0       0.0      1.0   \n",
       " MIFASHOP - Mỹ Phẩm, Nước Hoa Chính Hãng    100000.0  100000.0      1.0   \n",
       " Sly1994                                    100000.0  100000.0      1.0   \n",
       " Sơn Mập Quán - Heo Mẹt - Đường Số 11        50000.0   50000.0      1.0   \n",
       "1 Food Drink                                 50000.0   50000.0      1.0   \n",
       "...                                              ...       ...      ...   \n",
       "Ốc Đêm Nha Trang                             40000.0   40000.0      1.0   \n",
       "Ốc Đại Dương - Nguyễn Văn Luông              15000.0   15000.0      1.0   \n",
       "Ốc Đẹp                                       20000.0   20000.0      1.0   \n",
       "Ớt Xanh 1 - Cháo Ếch Singapore               20000.0   20000.0      1.0   \n",
       "Ụt Ụt Quán - Barbecue & Beer - Võ Văn Kiệt  100000.0  100000.0      1.0   \n",
       "\n",
       "                                                                      \\\n",
       "                                                 mean std        min   \n",
       "full_name                                                              \n",
       " Lẩu Bò Q7 - La Thành                             0.0 NaN        0.0   \n",
       " MIFASHOP - Mỹ Phẩm, Nước Hoa Chính Hãng    5000000.0 NaN  5000000.0   \n",
       " Sly1994                                     200000.0 NaN   200000.0   \n",
       " Sơn Mập Quán - Heo Mẹt - Đường Số 11         30000.0 NaN    30000.0   \n",
       "1 Food Drink                                 150000.0 NaN   150000.0   \n",
       "...                                               ...  ..        ...   \n",
       "Ốc Đêm Nha Trang                             100000.0 NaN   100000.0   \n",
       "Ốc Đại Dương - Nguyễn Văn Luông              200000.0 NaN   200000.0   \n",
       "Ốc Đẹp                                        30000.0 NaN    30000.0   \n",
       "Ớt Xanh 1 - Cháo Ếch Singapore               150000.0 NaN   150000.0   \n",
       "Ụt Ụt Quán - Barbecue & Beer - Võ Văn Kiệt   300000.0 NaN   300000.0   \n",
       "\n",
       "                                                                  \n",
       "                                                  50%        max  \n",
       "full_name                                                         \n",
       " Lẩu Bò Q7 - La Thành                             0.0        0.0  \n",
       " MIFASHOP - Mỹ Phẩm, Nước Hoa Chính Hãng    5000000.0  5000000.0  \n",
       " Sly1994                                     200000.0   200000.0  \n",
       " Sơn Mập Quán - Heo Mẹt - Đường Số 11         30000.0    30000.0  \n",
       "1 Food Drink                                 150000.0   150000.0  \n",
       "...                                               ...        ...  \n",
       "Ốc Đêm Nha Trang                             100000.0   100000.0  \n",
       "Ốc Đại Dương - Nguyễn Văn Luông              200000.0   200000.0  \n",
       "Ốc Đẹp                                        30000.0    30000.0  \n",
       "Ớt Xanh 1 - Cháo Ếch Singapore               150000.0   150000.0  \n",
       "Ụt Ụt Quán - Barbecue & Beer - Võ Văn Kiệt   300000.0   300000.0  \n",
       "\n",
       "[3922 rows x 12 columns]"
      ]
     },
     "metadata": {},
     "execution_count": 17
    }
   ],
   "metadata": {
    "collapsed": false
   }
  },
  {
   "cell_type": "markdown",
   "source": [
    "###  Phần 3,4,5"
   ],
   "metadata": {
    "collapsed": false
   }
  },
  {
   "cell_type": "code",
   "execution_count": null,
   "source": [],
   "outputs": [],
   "metadata": {
    "collapsed": false
   }
  },
  {
   "cell_type": "markdown",
   "source": [],
   "metadata": {
    "collapsed": false
   }
  }
 ],
 "metadata": {
  "interpreter": {
   "hash": "d98794233341d25f2a0894d4e9a90ded70997a05acb150b34675aa0571b13e29"
  },
  "kernelspec": {
   "name": "python3",
   "display_name": "Python 3.9.6 64-bit"
  },
  "language_info": {
   "codemirror_mode": {
    "name": "ipython",
    "version": 3
   },
   "file_extension": ".py",
   "mimetype": "text/x-python",
   "name": "python",
   "nbconvert_exporter": "python",
   "pygments_lexer": "ipython3",
   "version": "3.9.6"
  },
  "orig_nbformat": 4
 },
 "nbformat": 4,
 "nbformat_minor": 4
}