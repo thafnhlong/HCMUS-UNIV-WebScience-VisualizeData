{
 "cells": [
  {
   "cell_type": "markdown",
   "source": [
    "# HCMUS-UNIV-WebScience-VisualizeData\r\n",
    "\r\n",
    "## PROJECT 2: MỐI QUAN HỆ CỦA DỮ LIỆU\r\n"
   ],
   "metadata": {}
  },
  {
   "cell_type": "markdown",
   "source": [
    "### I. Chuẩn bị môi trường:"
   ],
   "metadata": {}
  },
  {
   "cell_type": "code",
   "execution_count": 23,
   "source": [
    "import sqlite3\r\n",
    "import pandas as pd\r\n",
    "import json"
   ],
   "outputs": [],
   "metadata": {}
  },
  {
   "cell_type": "code",
   "execution_count": 33,
   "source": [
    "def fetch_value(sqlCommand):\r\n",
    "    conn = sqlite3.connect(\"data.db\",check_same_thread=False)\r\n",
    "    ret = pd.read_sql_query(sqlCommand, conn)\r\n",
    "    conn.close()\r\n",
    "    return ret\r\n",
    "\r\n",
    "# Query dữ liệu\r\n",
    "def query_sql(sql:str):\r\n",
    "    listData = fetch_value(sql)\r\n",
    "    return listData\r\n",
    "\r\n",
    "# Lấy bài viết theo website.\r\n",
    "def get_bai_viet(website:str):\r\n",
    "    return query_sql(f\"select * from baiviet where website='{website}'\")\r\n",
    "\r\n",
    "class Utils:\r\n",
    "    def convertHMtoFloat(HM):\r\n",
    "        h,m = HM.split(\":\")\r\n",
    "        return int(h)+(float(m)/60)"
   ],
   "outputs": [],
   "metadata": {}
  },
  {
   "cell_type": "markdown",
   "source": [
    "### I. Tiền xử lý dữ liệu"
   ],
   "metadata": {}
  },
  {
   "cell_type": "markdown",
   "source": [
    " #### Yêu cầu: đưa các field về dạng chuẩn chung:\r\n",
    "\r\n",
    "1. active_time: thời gian hoạt động, đưa về dạng sau:\r\n",
    "\r\n",
    "```\r\n",
    "    {\r\n",
    "        <tên ngày trong tuần>:[ <thời gian mở cửa>,<thời gian đóng cửa> ]\r\n",
    "    }\r\n",
    "\r\n",
    "    *lowercase\r\n",
    "    *thời gian đưa về float: 8h30 => 8.5\r\n",
    "```\r\n",
    "    \r\n",
    "- ví dụ:\r\n",
    "\r\n",
    "```\r\n",
    "    {\r\n",
    "        \"thứ 2\": [7,21.5],\r\n",
    "        ...,\r\n",
    "        \"chủ nhật\": [8,22.3]\r\n",
    "    }\r\n",
    "```\r\n",
    "\r\n",
    "2. other_service: các dịch vụ khác, đưa về dạng sau:\r\n",
    "\r\n",
    "```\r\n",
    "    [\r\n",
    "        <tên dịch vụ>,\r\n",
    "        <tên dịch vụ>,\r\n",
    "        ...,\r\n",
    "    ]\r\n",
    "    \r\n",
    "    *lowercase\r\n",
    "```\r\n",
    "    \r\n",
    "- ví dụ:\r\n",
    "\r\n",
    "```\r\n",
    "    [\r\n",
    "        \"có wifi\"\r\n",
    "        \"giao hàng\",\r\n",
    "        ...,\r\n",
    "    ]\r\n",
    "```"
   ],
   "metadata": {}
  },
  {
   "cell_type": "markdown",
   "source": [
    "#### I.1 Foody"
   ],
   "metadata": {}
  },
  {
   "cell_type": "code",
   "execution_count": 61,
   "source": [
    "def preprocessing_Foody():\r\n",
    "    # Code here\r\n",
    "    return pd.DataFrame()"
   ],
   "outputs": [],
   "metadata": {}
  },
  {
   "cell_type": "markdown",
   "source": [
    "#### I.2 ShopeeFood"
   ],
   "metadata": {}
  },
  {
   "cell_type": "code",
   "execution_count": 59,
   "source": [
    "def preprocessing_ShopeeFood():\r\n",
    "    def maping(name):\r\n",
    "        if name==\"monday\":\r\n",
    "            return \"thứ 2\"\r\n",
    "        if name==\"tuesday\":\r\n",
    "            return \"thứ 3\"\r\n",
    "        if name==\"wednesday\":\r\n",
    "            return \"thứ 4\"\r\n",
    "        if name==\"thursday\":\r\n",
    "            return \"thứ 5\"\r\n",
    "        if name==\"friday\":\r\n",
    "            return \"thứ 6\"\r\n",
    "        if name==\"saturday\":\r\n",
    "            return \"thứ 7\"\r\n",
    "        if name==\"sunday\":\r\n",
    "            return \"chủ nhật\"\r\n",
    "\r\n",
    "    def convert_active_time(HM):\r\n",
    "        pre_format = {}\r\n",
    "        at_js = json.loads(HM)\r\n",
    "        atl = list(at_js)\r\n",
    "        for key in atl:\r\n",
    "            open,close = at_js[key].split(\"-\")\r\n",
    "            \r\n",
    "            pre_format[maping(key)] = [Utils.convertHMtoFloat(open),Utils.convertHMtoFloat(close)]\r\n",
    "        return pre_format\r\n",
    "\r\n",
    "    data = get_bai_viet(\"ShopeeFood\")\r\n",
    "    data[\"active_time\"] = data[\"active_time\"].apply(convert_active_time)\r\n",
    "\r\n",
    "    return data"
   ],
   "outputs": [],
   "metadata": {}
  },
  {
   "cell_type": "markdown",
   "source": [
    "#### I.3 GoogleReview"
   ],
   "metadata": {}
  },
  {
   "cell_type": "code",
   "execution_count": 60,
   "source": [
    "def preprocessing_GoogleReview():\r\n",
    "    # Code here\r\n",
    "    return pd.DataFrame()"
   ],
   "outputs": [],
   "metadata": {}
  },
  {
   "cell_type": "markdown",
   "source": [
    "#### I.4 Tổng hợp lại dữ liệu tiền xử lý"
   ],
   "metadata": {}
  },
  {
   "cell_type": "code",
   "execution_count": 67,
   "source": [
    "DATA = pd.concat([preprocessing_Foody(),preprocessing_ShopeeFood(),preprocessing_GoogleReview()])\r\n",
    "# DATA.describe()"
   ],
   "outputs": [],
   "metadata": {}
  },
  {
   "cell_type": "markdown",
   "source": [
    "### 2. Thống kê dữ liệu\r\n",
    "\r\n",
    "// Mô tả ..."
   ],
   "metadata": {}
  },
  {
   "cell_type": "code",
   "execution_count": null,
   "source": [
    "# Code here"
   ],
   "outputs": [],
   "metadata": {}
  },
  {
   "cell_type": "markdown",
   "source": [
    "###  Phần 3,4,5"
   ],
   "metadata": {}
  },
  {
   "cell_type": "code",
   "execution_count": null,
   "source": [],
   "outputs": [],
   "metadata": {}
  },
  {
   "cell_type": "markdown",
   "source": [],
   "metadata": {}
  }
 ],
 "metadata": {
  "orig_nbformat": 4,
  "language_info": {
   "name": "python",
   "version": "3.9.6",
   "mimetype": "text/x-python",
   "codemirror_mode": {
    "name": "ipython",
    "version": 3
   },
   "pygments_lexer": "ipython3",
   "nbconvert_exporter": "python",
   "file_extension": ".py"
  },
  "kernelspec": {
   "name": "python3",
   "display_name": "Python 3.9.6 64-bit"
  },
  "interpreter": {
   "hash": "d98794233341d25f2a0894d4e9a90ded70997a05acb150b34675aa0571b13e29"
  }
 },
 "nbformat": 4,
 "nbformat_minor": 2
}